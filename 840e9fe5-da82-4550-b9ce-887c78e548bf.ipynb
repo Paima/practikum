{
 "cells": [
  {
   "cell_type": "markdown",
   "metadata": {
    "toc": true
   },
   "source": [
    "<h1>Содержание<span class=\"tocSkip\"></span></h1>\n",
    "<div class=\"toc\"><ul class=\"toc-item\"><li><span><a href=\"#Подготовка-данных\" data-toc-modified-id=\"Подготовка-данных-1\"><span class=\"toc-item-num\">1&nbsp;&nbsp;</span>Подготовка данных</a></span></li><li><span><a href=\"#Исследование-задачи\" data-toc-modified-id=\"Исследование-задачи-2\"><span class=\"toc-item-num\">2&nbsp;&nbsp;</span>Исследование задачи</a></span></li><li><span><a href=\"#Борьба-с-дисбалансом\" data-toc-modified-id=\"Борьба-с-дисбалансом-3\"><span class=\"toc-item-num\">3&nbsp;&nbsp;</span>Борьба с дисбалансом</a></span></li><li><span><a href=\"#Тестирование-модели\" data-toc-modified-id=\"Тестирование-модели-4\"><span class=\"toc-item-num\">4&nbsp;&nbsp;</span>Тестирование модели</a></span></li><li><span><a href=\"#Чек-лист-готовности-проекта\" data-toc-modified-id=\"Чек-лист-готовности-проекта-5\"><span class=\"toc-item-num\">5&nbsp;&nbsp;</span>Чек-лист готовности проекта</a></span></li></ul></div>"
   ]
  },
  {
   "cell_type": "markdown",
   "metadata": {},
   "source": [
    "# Отток клиентов"
   ]
  },
  {
   "cell_type": "markdown",
   "metadata": {},
   "source": [
    "Из «Бета-Банка» стали уходить клиенты. Каждый месяц. Немного, но заметно. Банковские маркетологи посчитали: сохранять текущих клиентов дешевле, чем привлекать новых.\n",
    "\n",
    "Нужно спрогнозировать, уйдёт клиент из банка в ближайшее время или нет. Вам предоставлены исторические данные о поведении клиентов и расторжении договоров с банком. \n",
    "\n",
    "Постройте модель с предельно большим значением *F1*-меры. Чтобы сдать проект успешно, нужно довести метрику до 0.59. Проверьте *F1*-меру на тестовой выборке самостоятельно.\n",
    "\n",
    "Дополнительно измеряйте *AUC-ROC*, сравнивайте её значение с *F1*-мерой.\n",
    "\n",
    "Источник данных: [https://www.kaggle.com/barelydedicated/bank-customer-churn-modeling](https://www.kaggle.com/barelydedicated/bank-customer-churn-modeling)"
   ]
  },
  {
   "cell_type": "code",
   "execution_count": 1,
   "metadata": {},
   "outputs": [],
   "source": [
    "#Загружаем необходимые библиотеки\n",
    "\n",
    "import pandas as pd\n",
    "\n",
    "from sklearn.preprocessing import StandardScaler \n",
    "from sklearn.model_selection import train_test_split\n",
    "from sklearn.metrics import f1_score\n",
    "from sklearn.metrics import confusion_matrix\n",
    "from sklearn.linear_model import LogisticRegression\n",
    "from sklearn.tree import DecisionTreeClassifier\n",
    "from sklearn.ensemble import RandomForestClassifier\n",
    "from sklearn.metrics import accuracy_score\n",
    "from sklearn.utils import shuffle\n",
    "from sklearn.metrics import roc_auc_score\n",
    "\n",
    "\n",
    "pd.options.mode.chained_assignment = None"
   ]
  },
  {
   "cell_type": "code",
   "execution_count": 2,
   "metadata": {},
   "outputs": [],
   "source": [
    "# Функция апсемплинга\n",
    "def upsample(features, target, repeat):\n",
    "    features_zeros = features[target == 0]\n",
    "    features_ones = features[target == 1]\n",
    "    target_zeros = target[target == 0]\n",
    "    target_ones = target[target == 1]\n",
    "    \n",
    "    features_upsampled = pd.concat([features_zeros] + [features_ones] * repeat)\n",
    "    target_upsampled = pd.concat([target_zeros] + [target_ones] * repeat)\n",
    "    \n",
    "    features_upsampled, target_upsampled = shuffle(\n",
    "        features_upsampled, target_upsampled, random_state=12345)\n",
    "    \n",
    "    return features_upsampled, target_upsampled\n",
    "\n",
    "#Функция даунсеплинга\n",
    "def downsample(features, target, fraction):\n",
    "    features_zeros = features[target == 0]\n",
    "    features_ones = features[target == 1]\n",
    "    target_zeros = target[target == 0]\n",
    "    target_ones = target[target == 1]\n",
    "\n",
    "    features_downsampled = pd.concat(\n",
    "        [features_zeros.sample(frac=fraction, random_state=12345)] + [features_ones])\n",
    "    target_downsampled = pd.concat(\n",
    "        [target_zeros.sample(frac=fraction, random_state=12345)] + [target_ones])\n",
    "    \n",
    "    features_downsampled, target_downsampled = shuffle(\n",
    "        features_downsampled, target_downsampled, random_state=12345)\n",
    "    \n",
    "    return features_downsampled, target_downsampled\n"
   ]
  },
  {
   "cell_type": "markdown",
   "metadata": {},
   "source": [
    "## Подготовка данных"
   ]
  },
  {
   "cell_type": "code",
   "execution_count": 3,
   "metadata": {},
   "outputs": [
    {
     "data": {
      "text/html": [
       "<div>\n",
       "<style scoped>\n",
       "    .dataframe tbody tr th:only-of-type {\n",
       "        vertical-align: middle;\n",
       "    }\n",
       "\n",
       "    .dataframe tbody tr th {\n",
       "        vertical-align: top;\n",
       "    }\n",
       "\n",
       "    .dataframe thead th {\n",
       "        text-align: right;\n",
       "    }\n",
       "</style>\n",
       "<table border=\"1\" class=\"dataframe\">\n",
       "  <thead>\n",
       "    <tr style=\"text-align: right;\">\n",
       "      <th></th>\n",
       "      <th>RowNumber</th>\n",
       "      <th>CustomerId</th>\n",
       "      <th>Surname</th>\n",
       "      <th>CreditScore</th>\n",
       "      <th>Geography</th>\n",
       "      <th>Gender</th>\n",
       "      <th>Age</th>\n",
       "      <th>Tenure</th>\n",
       "      <th>Balance</th>\n",
       "      <th>NumOfProducts</th>\n",
       "      <th>HasCrCard</th>\n",
       "      <th>IsActiveMember</th>\n",
       "      <th>EstimatedSalary</th>\n",
       "      <th>Exited</th>\n",
       "    </tr>\n",
       "  </thead>\n",
       "  <tbody>\n",
       "    <tr>\n",
       "      <th>0</th>\n",
       "      <td>1</td>\n",
       "      <td>15634602</td>\n",
       "      <td>Hargrave</td>\n",
       "      <td>619</td>\n",
       "      <td>France</td>\n",
       "      <td>Female</td>\n",
       "      <td>42</td>\n",
       "      <td>2.0</td>\n",
       "      <td>0.00</td>\n",
       "      <td>1</td>\n",
       "      <td>1</td>\n",
       "      <td>1</td>\n",
       "      <td>101348.88</td>\n",
       "      <td>1</td>\n",
       "    </tr>\n",
       "    <tr>\n",
       "      <th>1</th>\n",
       "      <td>2</td>\n",
       "      <td>15647311</td>\n",
       "      <td>Hill</td>\n",
       "      <td>608</td>\n",
       "      <td>Spain</td>\n",
       "      <td>Female</td>\n",
       "      <td>41</td>\n",
       "      <td>1.0</td>\n",
       "      <td>83807.86</td>\n",
       "      <td>1</td>\n",
       "      <td>0</td>\n",
       "      <td>1</td>\n",
       "      <td>112542.58</td>\n",
       "      <td>0</td>\n",
       "    </tr>\n",
       "    <tr>\n",
       "      <th>2</th>\n",
       "      <td>3</td>\n",
       "      <td>15619304</td>\n",
       "      <td>Onio</td>\n",
       "      <td>502</td>\n",
       "      <td>France</td>\n",
       "      <td>Female</td>\n",
       "      <td>42</td>\n",
       "      <td>8.0</td>\n",
       "      <td>159660.80</td>\n",
       "      <td>3</td>\n",
       "      <td>1</td>\n",
       "      <td>0</td>\n",
       "      <td>113931.57</td>\n",
       "      <td>1</td>\n",
       "    </tr>\n",
       "    <tr>\n",
       "      <th>3</th>\n",
       "      <td>4</td>\n",
       "      <td>15701354</td>\n",
       "      <td>Boni</td>\n",
       "      <td>699</td>\n",
       "      <td>France</td>\n",
       "      <td>Female</td>\n",
       "      <td>39</td>\n",
       "      <td>1.0</td>\n",
       "      <td>0.00</td>\n",
       "      <td>2</td>\n",
       "      <td>0</td>\n",
       "      <td>0</td>\n",
       "      <td>93826.63</td>\n",
       "      <td>0</td>\n",
       "    </tr>\n",
       "    <tr>\n",
       "      <th>4</th>\n",
       "      <td>5</td>\n",
       "      <td>15737888</td>\n",
       "      <td>Mitchell</td>\n",
       "      <td>850</td>\n",
       "      <td>Spain</td>\n",
       "      <td>Female</td>\n",
       "      <td>43</td>\n",
       "      <td>2.0</td>\n",
       "      <td>125510.82</td>\n",
       "      <td>1</td>\n",
       "      <td>1</td>\n",
       "      <td>1</td>\n",
       "      <td>79084.10</td>\n",
       "      <td>0</td>\n",
       "    </tr>\n",
       "    <tr>\n",
       "      <th>5</th>\n",
       "      <td>6</td>\n",
       "      <td>15574012</td>\n",
       "      <td>Chu</td>\n",
       "      <td>645</td>\n",
       "      <td>Spain</td>\n",
       "      <td>Male</td>\n",
       "      <td>44</td>\n",
       "      <td>8.0</td>\n",
       "      <td>113755.78</td>\n",
       "      <td>2</td>\n",
       "      <td>1</td>\n",
       "      <td>0</td>\n",
       "      <td>149756.71</td>\n",
       "      <td>1</td>\n",
       "    </tr>\n",
       "    <tr>\n",
       "      <th>6</th>\n",
       "      <td>7</td>\n",
       "      <td>15592531</td>\n",
       "      <td>Bartlett</td>\n",
       "      <td>822</td>\n",
       "      <td>France</td>\n",
       "      <td>Male</td>\n",
       "      <td>50</td>\n",
       "      <td>7.0</td>\n",
       "      <td>0.00</td>\n",
       "      <td>2</td>\n",
       "      <td>1</td>\n",
       "      <td>1</td>\n",
       "      <td>10062.80</td>\n",
       "      <td>0</td>\n",
       "    </tr>\n",
       "    <tr>\n",
       "      <th>7</th>\n",
       "      <td>8</td>\n",
       "      <td>15656148</td>\n",
       "      <td>Obinna</td>\n",
       "      <td>376</td>\n",
       "      <td>Germany</td>\n",
       "      <td>Female</td>\n",
       "      <td>29</td>\n",
       "      <td>4.0</td>\n",
       "      <td>115046.74</td>\n",
       "      <td>4</td>\n",
       "      <td>1</td>\n",
       "      <td>0</td>\n",
       "      <td>119346.88</td>\n",
       "      <td>1</td>\n",
       "    </tr>\n",
       "    <tr>\n",
       "      <th>8</th>\n",
       "      <td>9</td>\n",
       "      <td>15792365</td>\n",
       "      <td>He</td>\n",
       "      <td>501</td>\n",
       "      <td>France</td>\n",
       "      <td>Male</td>\n",
       "      <td>44</td>\n",
       "      <td>4.0</td>\n",
       "      <td>142051.07</td>\n",
       "      <td>2</td>\n",
       "      <td>0</td>\n",
       "      <td>1</td>\n",
       "      <td>74940.50</td>\n",
       "      <td>0</td>\n",
       "    </tr>\n",
       "    <tr>\n",
       "      <th>9</th>\n",
       "      <td>10</td>\n",
       "      <td>15592389</td>\n",
       "      <td>H?</td>\n",
       "      <td>684</td>\n",
       "      <td>France</td>\n",
       "      <td>Male</td>\n",
       "      <td>27</td>\n",
       "      <td>2.0</td>\n",
       "      <td>134603.88</td>\n",
       "      <td>1</td>\n",
       "      <td>1</td>\n",
       "      <td>1</td>\n",
       "      <td>71725.73</td>\n",
       "      <td>0</td>\n",
       "    </tr>\n",
       "  </tbody>\n",
       "</table>\n",
       "</div>"
      ],
      "text/plain": [
       "   RowNumber  CustomerId   Surname  CreditScore Geography  Gender  Age  \\\n",
       "0          1    15634602  Hargrave          619    France  Female   42   \n",
       "1          2    15647311      Hill          608     Spain  Female   41   \n",
       "2          3    15619304      Onio          502    France  Female   42   \n",
       "3          4    15701354      Boni          699    France  Female   39   \n",
       "4          5    15737888  Mitchell          850     Spain  Female   43   \n",
       "5          6    15574012       Chu          645     Spain    Male   44   \n",
       "6          7    15592531  Bartlett          822    France    Male   50   \n",
       "7          8    15656148    Obinna          376   Germany  Female   29   \n",
       "8          9    15792365        He          501    France    Male   44   \n",
       "9         10    15592389        H?          684    France    Male   27   \n",
       "\n",
       "   Tenure    Balance  NumOfProducts  HasCrCard  IsActiveMember  \\\n",
       "0     2.0       0.00              1          1               1   \n",
       "1     1.0   83807.86              1          0               1   \n",
       "2     8.0  159660.80              3          1               0   \n",
       "3     1.0       0.00              2          0               0   \n",
       "4     2.0  125510.82              1          1               1   \n",
       "5     8.0  113755.78              2          1               0   \n",
       "6     7.0       0.00              2          1               1   \n",
       "7     4.0  115046.74              4          1               0   \n",
       "8     4.0  142051.07              2          0               1   \n",
       "9     2.0  134603.88              1          1               1   \n",
       "\n",
       "   EstimatedSalary  Exited  \n",
       "0        101348.88       1  \n",
       "1        112542.58       0  \n",
       "2        113931.57       1  \n",
       "3         93826.63       0  \n",
       "4         79084.10       0  \n",
       "5        149756.71       1  \n",
       "6         10062.80       0  \n",
       "7        119346.88       1  \n",
       "8         74940.50       0  \n",
       "9         71725.73       0  "
      ]
     },
     "metadata": {},
     "output_type": "display_data"
    },
    {
     "name": "stdout",
     "output_type": "stream",
     "text": [
      "<class 'pandas.core.frame.DataFrame'>\n",
      "RangeIndex: 10000 entries, 0 to 9999\n",
      "Data columns (total 14 columns):\n",
      " #   Column           Non-Null Count  Dtype  \n",
      "---  ------           --------------  -----  \n",
      " 0   RowNumber        10000 non-null  int64  \n",
      " 1   CustomerId       10000 non-null  int64  \n",
      " 2   Surname          10000 non-null  object \n",
      " 3   CreditScore      10000 non-null  int64  \n",
      " 4   Geography        10000 non-null  object \n",
      " 5   Gender           10000 non-null  object \n",
      " 6   Age              10000 non-null  int64  \n",
      " 7   Tenure           9091 non-null   float64\n",
      " 8   Balance          10000 non-null  float64\n",
      " 9   NumOfProducts    10000 non-null  int64  \n",
      " 10  HasCrCard        10000 non-null  int64  \n",
      " 11  IsActiveMember   10000 non-null  int64  \n",
      " 12  EstimatedSalary  10000 non-null  float64\n",
      " 13  Exited           10000 non-null  int64  \n",
      "dtypes: float64(3), int64(8), object(3)\n",
      "memory usage: 1.1+ MB\n",
      "None\n"
     ]
    }
   ],
   "source": [
    "original_data = pd.read_csv('/datasets/Churn.csv')\n",
    "display(original_data.head(10))\n",
    "print(original_data.info())"
   ]
  },
  {
   "cell_type": "markdown",
   "metadata": {},
   "source": [
    "Для дальнейшей работы с данными нам не труются поля с идентификатором клиента и его фамилией"
   ]
  },
  {
   "cell_type": "code",
   "execution_count": 4,
   "metadata": {},
   "outputs": [
    {
     "name": "stdout",
     "output_type": "stream",
     "text": [
      "<class 'pandas.core.frame.DataFrame'>\n",
      "RangeIndex: 10000 entries, 0 to 9999\n",
      "Data columns (total 11 columns):\n",
      " #   Column           Non-Null Count  Dtype  \n",
      "---  ------           --------------  -----  \n",
      " 0   CreditScore      10000 non-null  int64  \n",
      " 1   Geography        10000 non-null  object \n",
      " 2   Gender           10000 non-null  object \n",
      " 3   Age              10000 non-null  int64  \n",
      " 4   Tenure           9091 non-null   float64\n",
      " 5   Balance          10000 non-null  float64\n",
      " 6   NumOfProducts    10000 non-null  int64  \n",
      " 7   HasCrCard        10000 non-null  int64  \n",
      " 8   IsActiveMember   10000 non-null  int64  \n",
      " 9   EstimatedSalary  10000 non-null  float64\n",
      " 10  Exited           10000 non-null  int64  \n",
      "dtypes: float64(3), int64(6), object(2)\n",
      "memory usage: 859.5+ KB\n",
      "None\n"
     ]
    }
   ],
   "source": [
    "data = original_data.drop(columns=['CustomerId','Surname','RowNumber'])\n",
    "print(data.info())"
   ]
  },
  {
   "cell_type": "markdown",
   "metadata": {},
   "source": [
    "Уберем категориальные переменные прямым кодированием"
   ]
  },
  {
   "cell_type": "code",
   "execution_count": 5,
   "metadata": {},
   "outputs": [
    {
     "name": "stdout",
     "output_type": "stream",
     "text": [
      "<class 'pandas.core.frame.DataFrame'>\n",
      "RangeIndex: 10000 entries, 0 to 9999\n",
      "Data columns (total 12 columns):\n",
      " #   Column             Non-Null Count  Dtype  \n",
      "---  ------             --------------  -----  \n",
      " 0   CreditScore        10000 non-null  int64  \n",
      " 1   Age                10000 non-null  int64  \n",
      " 2   Tenure             9091 non-null   float64\n",
      " 3   Balance            10000 non-null  float64\n",
      " 4   NumOfProducts      10000 non-null  int64  \n",
      " 5   HasCrCard          10000 non-null  int64  \n",
      " 6   IsActiveMember     10000 non-null  int64  \n",
      " 7   EstimatedSalary    10000 non-null  float64\n",
      " 8   Exited             10000 non-null  int64  \n",
      " 9   Geography_Germany  10000 non-null  uint8  \n",
      " 10  Geography_Spain    10000 non-null  uint8  \n",
      " 11  Gender_Male        10000 non-null  uint8  \n",
      "dtypes: float64(3), int64(6), uint8(3)\n",
      "memory usage: 732.5 KB\n"
     ]
    }
   ],
   "source": [
    "data_ohe = pd.get_dummies(data, drop_first=True)\n",
    "data_ohe.info()"
   ]
  },
  {
   "cell_type": "markdown",
   "metadata": {},
   "source": [
    "Поле Tenure имеет пропущенные значения.\n",
    "\n",
    "Проверим, какие значения может принимать это поле"
   ]
  },
  {
   "cell_type": "code",
   "execution_count": 6,
   "metadata": {},
   "outputs": [
    {
     "name": "stdout",
     "output_type": "stream",
     "text": [
      "[ 2.  1.  8.  7.  4.  6.  3. 10.  5.  9.  0. nan]\n"
     ]
    }
   ],
   "source": [
    "print(data_ohe['Tenure'].unique())"
   ]
  },
  {
   "cell_type": "markdown",
   "metadata": {},
   "source": [
    "10% NaN - может сильно повлиять на результат, следовательно присвоить одно из существвующих значений - некорректно.\n",
    "\n",
    "Скорее всего система, из которой выгружены данные имеет какой-то дефект. \n",
    "\n",
    "Так как Tenure достаточно важный параметр, то его неоходимо заполнить. Чтобы корректнее предположить какими значениями заполнить Tenure - категоризируем всех клиентов по 10 корзинам по возрасту и по 10 корзинам по кредитному рейтингу. На основе этих категорий посчитаем среднее и заполним недостающие значения Tenure"
   ]
  },
  {
   "cell_type": "code",
   "execution_count": 7,
   "metadata": {},
   "outputs": [
    {
     "name": "stdout",
     "output_type": "stream",
     "text": [
      "<class 'pandas.core.frame.DataFrame'>\n",
      "RangeIndex: 10000 entries, 0 to 9999\n",
      "Data columns (total 12 columns):\n",
      " #   Column             Non-Null Count  Dtype  \n",
      "---  ------             --------------  -----  \n",
      " 0   CreditScore        10000 non-null  int64  \n",
      " 1   Age                10000 non-null  int64  \n",
      " 2   Tenure             10000 non-null  float64\n",
      " 3   Balance            10000 non-null  float64\n",
      " 4   NumOfProducts      10000 non-null  int64  \n",
      " 5   HasCrCard          10000 non-null  int64  \n",
      " 6   IsActiveMember     10000 non-null  int64  \n",
      " 7   EstimatedSalary    10000 non-null  float64\n",
      " 8   Exited             10000 non-null  int64  \n",
      " 9   Geography_Germany  10000 non-null  uint8  \n",
      " 10  Geography_Spain    10000 non-null  uint8  \n",
      " 11  Gender_Male        10000 non-null  uint8  \n",
      "dtypes: float64(3), int64(6), uint8(3)\n",
      "memory usage: 732.5 KB\n"
     ]
    }
   ],
   "source": [
    "data_ohe['cred_score_bin'] = pd.qcut(data_ohe['CreditScore'],10,labels=False)\n",
    "data_ohe['age_bin'] = pd.qcut(data_ohe['Age'],10,labels=False)\n",
    "data_ohe_group = data_ohe.groupby(['cred_score_bin', 'age_bin'])['Tenure'].mean()\n",
    "data_ohe = data_ohe.join(data_ohe_group, on=['cred_score_bin','age_bin'],how='left',rsuffix='_avg')\n",
    "data_ohe['Tenure'] = data_ohe['Tenure'].fillna(data_ohe['Tenure_avg'])\n",
    "data_ohe = data_ohe.drop(labels=['cred_score_bin','age_bin','Tenure_avg'], axis=1)\n",
    "data_ohe.info()"
   ]
  },
  {
   "cell_type": "markdown",
   "metadata": {},
   "source": [
    "Масштабируем числовые признаки"
   ]
  },
  {
   "cell_type": "markdown",
   "metadata": {},
   "source": [
    "Разделим данные на тренировочную, валидационную и тестовую выборки"
   ]
  },
  {
   "cell_type": "code",
   "execution_count": 8,
   "metadata": {},
   "outputs": [],
   "source": [
    "target = data_ohe['Exited']\n",
    "features = data_ohe.drop('Exited', axis=1)\n",
    "features_train_valid, features_test, target_train_valid, target_test = train_test_split(\n",
    "    features, target, test_size=0.2, random_state=12345)\n",
    "features_train, features_valid, target_train, target_valid = train_test_split(\n",
    "    features_train_valid, target_train_valid, test_size=0.25, random_state=12345)\n",
    "\n",
    "numeric = ['CreditScore','Age','Tenure','Balance','NumOfProducts','EstimatedSalary']\n",
    "scaler = StandardScaler()\n",
    "scaler.fit(data_ohe[numeric])\n",
    "features_train[numeric] = scaler.transform(features_train[numeric])\n",
    "features_valid[numeric] = scaler.transform(features_valid[numeric])\n",
    "features_test[numeric] = scaler.transform(features_test[numeric])"
   ]
  },
  {
   "cell_type": "markdown",
   "metadata": {},
   "source": [
    "## Исследование задачи"
   ]
  },
  {
   "cell_type": "markdown",
   "metadata": {},
   "source": [
    "Обучим модель логистической регрессии ее accuracy на валидационной выборке:"
   ]
  },
  {
   "cell_type": "code",
   "execution_count": 9,
   "metadata": {},
   "outputs": [
    {
     "name": "stdout",
     "output_type": "stream",
     "text": [
      "0.8145\n"
     ]
    }
   ],
   "source": [
    "model = LogisticRegression(random_state=12345)\n",
    "model.fit(features_train, target_train)\n",
    "predicted_valid = model.predict(features_valid)\n",
    "accuracy_valid = accuracy_score(target_valid,predicted_valid)\n",
    "print(accuracy_valid)"
   ]
  },
  {
   "cell_type": "markdown",
   "metadata": {},
   "source": [
    "Проверим модель на адекватность.\n",
    "\n",
    "Для начала посчитаем классы в целевом признаке"
   ]
  },
  {
   "cell_type": "code",
   "execution_count": 10,
   "metadata": {},
   "outputs": [
    {
     "name": "stdout",
     "output_type": "stream",
     "text": [
      "0    0.7963\n",
      "1    0.2037\n",
      "Name: Exited, dtype: float64\n"
     ]
    }
   ],
   "source": [
    "class_frequency = data_ohe['Exited'].value_counts(normalize=True)\n",
    "print(class_frequency)"
   ]
  },
  {
   "cell_type": "markdown",
   "metadata": {},
   "source": [
    "**Вывод**\n",
    "\n",
    "Получается, что константная модель с предсказанием 0 выдаст лучший результат не сильно хуже, чем обученная нами модель."
   ]
  },
  {
   "cell_type": "markdown",
   "metadata": {},
   "source": [
    "Построим матрицу ошибок:"
   ]
  },
  {
   "cell_type": "code",
   "execution_count": 11,
   "metadata": {},
   "outputs": [
    {
     "name": "stdout",
     "output_type": "stream",
     "text": [
      "[[1549   60]\n",
      " [ 311   80]]\n"
     ]
    }
   ],
   "source": [
    "print(confusion_matrix(target_valid, predicted_valid))"
   ]
  },
  {
   "cell_type": "markdown",
   "metadata": {},
   "source": [
    "Посчитаем F1-меру"
   ]
  },
  {
   "cell_type": "code",
   "execution_count": 12,
   "metadata": {},
   "outputs": [
    {
     "name": "stdout",
     "output_type": "stream",
     "text": [
      "0.30131826741996237\n"
     ]
    }
   ],
   "source": [
    "print(f1_score(target_valid, predicted_valid))"
   ]
  },
  {
   "cell_type": "markdown",
   "metadata": {},
   "source": [
    "## Борьба с дисбалансом"
   ]
  },
  {
   "cell_type": "markdown",
   "metadata": {},
   "source": [
    "Снова обучим модель. При этом объектам редкого класса придадим больший вес. "
   ]
  },
  {
   "cell_type": "code",
   "execution_count": 18,
   "metadata": {},
   "outputs": [
    {
     "name": "stdout",
     "output_type": "stream",
     "text": [
      "0.4741532976827095 0.7725406481126782\n"
     ]
    }
   ],
   "source": [
    "model = LogisticRegression(random_state=12345, class_weight='balanced',solver='lbfgs')\n",
    "model.fit(features_train, target_train)\n",
    "predicted_valid = model.predict(features_valid)\n",
    "probabilities_valid = model.predict_proba(features_valid)\n",
    "probabilities_one_valid = probabilities_valid[:, 1]\n",
    "auc_roc = roc_auc_score(target_valid, probabilities_one_valid)\n",
    "print(f1_score(target_valid, predicted_valid), auc_roc)"
   ]
  },
  {
   "cell_type": "markdown",
   "metadata": {},
   "source": [
    "Значение F1-меры улучшилось, но до целевого еще далеко. Попробуем другое решение: upsampling"
   ]
  },
  {
   "cell_type": "code",
   "execution_count": 17,
   "metadata": {},
   "outputs": [
    {
     "name": "stdout",
     "output_type": "stream",
     "text": [
      "Лучшее значение f1 = 0.4833110814419226 При Количестве: 2 AUC-ROC: 0.771385063875038\n"
     ]
    }
   ],
   "source": [
    "best_f1 = 0\n",
    "best_rep = 0\n",
    "auc_roc = 0\n",
    "\n",
    "for rep in range(1,30):\n",
    "    features_upsampled, target_upsampled = upsample(features_train, target_train, rep)\n",
    "    model = LogisticRegression(random_state=12345 ,solver='lbfgs')\n",
    "    model.fit(features_upsampled, target_upsampled)\n",
    "    predicted_valid = model.predict(features_valid)\n",
    "    cur_f1 = f1_score(target_valid, predicted_valid)\n",
    "    if best_f1 < cur_f1:\n",
    "        best_f1 = cur_f1\n",
    "        best_rep = rep\n",
    "        probabilities_valid = model.predict_proba(features_valid)\n",
    "        probabilities_one_valid = probabilities_valid[:, 1]\n",
    "        auc_roc = roc_auc_score(target_valid, probabilities_one_valid)\n",
    "print('Лучшее значение f1 =', best_f1,'При Количестве:', best_rep, 'AUC-ROC:', auc_roc)"
   ]
  },
  {
   "cell_type": "markdown",
   "metadata": {},
   "source": [
    "Значение F1-меры и AUC-ROC улучшилось, но не сильно. Попробуем другое решение: downsampling"
   ]
  },
  {
   "cell_type": "code",
   "execution_count": 19,
   "metadata": {},
   "outputs": [
    {
     "name": "stdout",
     "output_type": "stream",
     "text": [
      "Лучшее значение f1 = 0.4936708860759494 При fraction: 0.47 AUC-ROC: 0.7719684193292525\n"
     ]
    }
   ],
   "source": [
    "best_f1 = 0\n",
    "best_rep = 0\n",
    "auc_roc = 0\n",
    "\n",
    "for rep in range(1,100):\n",
    "    features_downsampled, target_downsampled = downsample(features_train, target_train, rep/100)\n",
    "    model = LogisticRegression(random_state=12345, solver='lbfgs')\n",
    "    model.fit(features_downsampled, target_downsampled)\n",
    "    predicted_valid = model.predict(features_valid)\n",
    "    cur_f1 = f1_score(target_valid, predicted_valid)\n",
    "    if best_f1 < cur_f1:\n",
    "        best_f1 = cur_f1\n",
    "        best_rep = rep\n",
    "        probabilities_valid = model.predict_proba(features_valid)\n",
    "        probabilities_one_valid = probabilities_valid[:, 1]\n",
    "        auc_roc = roc_auc_score(target_valid, probabilities_one_valid)      \n",
    "print('Лучшее значение f1 =', best_f1,'При fraction:', best_rep/100, 'AUC-ROC:', auc_roc)"
   ]
  },
  {
   "cell_type": "markdown",
   "metadata": {},
   "source": [
    "Значение F1-меры и AUC-ROC лучше, чем после придания веса, но не сильно"
   ]
  },
  {
   "cell_type": "markdown",
   "metadata": {},
   "source": [
    "Обучим решающее дерево и найдем максимально ввозможное значение F1-меры"
   ]
  },
  {
   "cell_type": "code",
   "execution_count": 20,
   "metadata": {},
   "outputs": [
    {
     "name": "stdout",
     "output_type": "stream",
     "text": [
      "Лучшее значение f1 = 0.5592705167173252 При глубине дерева: 6 AUC-ROC: 0.8095813351687041\n"
     ]
    }
   ],
   "source": [
    "best_f1=0\n",
    "best_depth=0\n",
    "auc_roc = 0\n",
    "\n",
    "for depth in range(1,60):\n",
    "    model = DecisionTreeClassifier(random_state=12345, max_depth=depth, class_weight='balanced')\n",
    "    model.fit(features_train, target_train)\n",
    "    predicted_valid = model.predict(features_valid)\n",
    "    cur_f1 = f1_score(target_valid, predicted_valid)\n",
    "    if best_f1 < cur_f1:\n",
    "        best_f1 = cur_f1\n",
    "        best_depth = depth\n",
    "        probabilities_valid = model.predict_proba(features_valid)\n",
    "        probabilities_one_valid = probabilities_valid[:, 1]\n",
    "        auc_roc = roc_auc_score(target_valid, probabilities_one_valid)\n",
    "print('Лучшее значение f1 =', best_f1,'При глубине дерева:', best_depth, 'AUC-ROC:', auc_roc)"
   ]
  },
  {
   "cell_type": "markdown",
   "metadata": {},
   "source": [
    "Все еще не дотягиваем до целевого значения. Поробуем апсемплинг и даунсеплинг:"
   ]
  },
  {
   "cell_type": "code",
   "execution_count": 24,
   "metadata": {},
   "outputs": [
    {
     "name": "stdout",
     "output_type": "stream",
     "text": [
      "Лучшее значение f1 = 0.5608695652173913 При глубине дерева: 6 Повторения: 3 AUC-ROC: 0.8123359809511397\n"
     ]
    }
   ],
   "source": [
    "best_f1 = 0\n",
    "best_rep = 0\n",
    "auc_roc = 0\n",
    "\n",
    "for rep in range(1,30):\n",
    "    features_upsampled, target_upsampled = upsample(features_train, target_train, rep)\n",
    "    model = DecisionTreeClassifier(random_state=12345, max_depth=6,)\n",
    "    model.fit(features_upsampled, target_upsampled)\n",
    "    predicted_valid = model.predict(features_valid)\n",
    "    cur_f1 = f1_score(target_valid, predicted_valid)\n",
    "    if best_f1 < cur_f1:\n",
    "        best_f1 = cur_f1\n",
    "        best_rep = rep\n",
    "        probabilities_valid = model.predict_proba(features_valid)\n",
    "        probabilities_one_valid = probabilities_valid[:, 1]\n",
    "        auc_roc = roc_auc_score(target_valid, probabilities_one_valid)\n",
    "print('Лучшее значение f1 =', best_f1,'При глубине дерева:', best_depth,'Повторения:',best_rep, 'AUC-ROC:', auc_roc)"
   ]
  },
  {
   "cell_type": "code",
   "execution_count": 25,
   "metadata": {},
   "outputs": [
    {
     "name": "stdout",
     "output_type": "stream",
     "text": [
      "Лучшее значение f1 = 0.5728848114169216 При глубине дерева: 6 Fraction: 0.31 AUC-ROC: 0.8239935528890401\n"
     ]
    }
   ],
   "source": [
    "best_f1 = 0\n",
    "best_rep = 0\n",
    "auc_roc = 0\n",
    "\n",
    "for rep in range(1,100):\n",
    "    features_downsampled, target_downsampled = downsample(features_train, target_train, rep/100)\n",
    "\n",
    "    model = DecisionTreeClassifier(random_state=12345, max_depth=6)\n",
    "    model.fit(features_downsampled, target_downsampled)\n",
    "    predicted_valid = model.predict(features_valid)\n",
    "    cur_f1 = f1_score(target_valid, predicted_valid)\n",
    "    if best_f1 < cur_f1:\n",
    "        best_f1 = cur_f1\n",
    "        best_rep = rep\n",
    "        probabilities_valid = model.predict_proba(features_valid)\n",
    "        probabilities_one_valid = probabilities_valid[:, 1]\n",
    "        auc_roc = roc_auc_score(target_valid, probabilities_one_valid)\n",
    "print('Лучшее значение f1 =', best_f1,'При глубине дерева:', best_depth, 'Fraction:',best_rep/100,'AUC-ROC:', auc_roc)"
   ]
  },
  {
   "cell_type": "markdown",
   "metadata": {},
   "source": [
    "Получили что при даунсеплинге при обучении дерева лучше всего использовать fraction=0.31, а глубина дерева = 6.\n",
    "\n",
    "Теперь проверим возможность улучшения результата обучением случайного леса:\n",
    "- Downsample\n",
    "- Upsample\n",
    "- Balanced"
   ]
  },
  {
   "cell_type": "code",
   "execution_count": 26,
   "metadata": {},
   "outputs": [
    {
     "name": "stdout",
     "output_type": "stream",
     "text": [
      "Лучшее значение f1 = 0.5842026825633383 При n_estimators =  10 При глубине = 9 Fraction = 0.7 AUC-ROC: 0.8415490551072214\n"
     ]
    }
   ],
   "source": [
    "best_f1 = 0\n",
    "best_est = 0\n",
    "best_depth = 0\n",
    "best_frac = 0\n",
    "auc_roc = 0\n",
    "\n",
    "\n",
    "for est in [10,50,100,200]:\n",
    "    for depth in range(1,10):\n",
    "        for frac in [0.3,0.7,1]:\n",
    "            features_downsampled, target_downsampled = downsample(features_train, target_train, frac)\n",
    "            model = RandomForestClassifier(n_estimators=est, random_state=12345, max_depth=depth)\n",
    "            model.fit(features_downsampled, target_downsampled)\n",
    "            predicted_valid = model.predict(features_valid)\n",
    "            cur_f1 = f1_score(target_valid, predicted_valid)\n",
    "            if best_f1 < cur_f1:\n",
    "                best_f1 = cur_f1\n",
    "                best_est = est\n",
    "                best_depth = depth\n",
    "                best_frac = frac\n",
    "                probabilities_valid = model.predict_proba(features_valid)\n",
    "                probabilities_one_valid = probabilities_valid[:, 1]\n",
    "                auc_roc = roc_auc_score(target_valid, probabilities_one_valid)\n",
    "print('Лучшее значение f1 =', best_f1,'При n_estimators = ', best_est,\"При глубине =\", best_depth, \"Fraction =\",best_frac,'AUC-ROC:', auc_roc )"
   ]
  },
  {
   "cell_type": "code",
   "execution_count": 27,
   "metadata": {},
   "outputs": [
    {
     "name": "stdout",
     "output_type": "stream",
     "text": [
      "Лучшее значение f1 = 0.6053748231966053 При n_estimators =  200 При глубине = 9 rep = 9 AUC-ROC: 0.8546570680586661\n"
     ]
    }
   ],
   "source": [
    "best_f1 = 0\n",
    "best_est = 0\n",
    "best_depth = 0\n",
    "best_frac = 0\n",
    "\n",
    "\n",
    "for est in [10,50,100,200]:\n",
    "    for depth in range(1,10):\n",
    "        for rep in range(1,10):\n",
    "            features_upsampled, target_upsampled = upsample(features_train, target_train, rep)\n",
    "            model = RandomForestClassifier(n_estimators=est, random_state=12345, max_depth=depth)\n",
    "            model.fit(features_upsampled, target_upsampled)\n",
    "            predicted_valid = model.predict(features_valid)\n",
    "            cur_f1 = f1_score(target_valid, predicted_valid)\n",
    "            if best_f1 < cur_f1:\n",
    "                best_f1 = cur_f1\n",
    "                best_est = est\n",
    "                best_depth = depth\n",
    "                best_frac = rep\n",
    "                probabilities_valid = model.predict_proba(features_valid)\n",
    "                probabilities_one_valid = probabilities_valid[:, 1]\n",
    "                auc_roc = roc_auc_score(target_valid, probabilities_one_valid)\n",
    "print('Лучшее значение f1 =', best_f1,'При n_estimators = ', best_est,\"При глубине =\", best_depth, \"rep =\",rep,'AUC-ROC:', auc_roc)\n"
   ]
  },
  {
   "cell_type": "code",
   "execution_count": 28,
   "metadata": {},
   "outputs": [
    {
     "name": "stdout",
     "output_type": "stream",
     "text": [
      "Лучшее значение f1 = 0.593200468933177 При n_estimators =  10 При глубине = 8 AUC-ROC: 0.8493377246594047\n"
     ]
    }
   ],
   "source": [
    "best_f1 = 0\n",
    "best_est = 0\n",
    "best_depth = 0\n",
    "auc_roc = 0\n",
    "\n",
    "\n",
    "for est in [10,50,100,200]:\n",
    "    for depth in range(1,10):\n",
    "            model = RandomForestClassifier(n_estimators=est, random_state=12345, max_depth=depth, class_weight='balanced' )\n",
    "            model.fit(features_train, target_train)\n",
    "            predicted_valid = model.predict(features_valid)\n",
    "            cur_f1 = f1_score(target_valid, predicted_valid)\n",
    "            if best_f1 < cur_f1:\n",
    "                best_f1 = cur_f1\n",
    "                best_est = est\n",
    "                best_depth = depth\n",
    "                probabilities_valid = model.predict_proba(features_valid)\n",
    "                probabilities_one_valid = probabilities_valid[:, 1]\n",
    "                auc_roc = roc_auc_score(target_valid, probabilities_one_valid)\n",
    "print('Лучшее значение f1 =', best_f1,'При n_estimators = ', best_est,\"При глубине =\", best_depth,'AUC-ROC:', auc_roc)"
   ]
  },
  {
   "cell_type": "markdown",
   "metadata": {},
   "source": [
    "Получаем два варианта модели, которые нам подходят по условиям задачи.\n",
    "\n",
    "Проверим модели на тестовой выборке:"
   ]
  },
  {
   "cell_type": "markdown",
   "metadata": {},
   "source": [
    "## Тестирование модели"
   ]
  },
  {
   "cell_type": "markdown",
   "metadata": {},
   "source": [
    "Проверим первую модель, которая показала наилучшее значение по f1 метрики:"
   ]
  },
  {
   "cell_type": "code",
   "execution_count": 35,
   "metadata": {},
   "outputs": [
    {
     "name": "stdout",
     "output_type": "stream",
     "text": [
      "F1: 0.514890800794176 AUC-ROC: 0.7345880646923867\n"
     ]
    }
   ],
   "source": [
    "features_upsampled, target_upsampled = upsample(features_train, target_train, 9)\n",
    "model = RandomForestClassifier(n_estimators=200, random_state=12345, max_depth=7)\n",
    "model.fit(features_upsampled, target_upsampled)\n",
    "predicted_valid = model.predict(features_test)\n",
    "auc_roc = roc_auc_score(target_test, predicted_valid)\n",
    "print('F1:',f1_score(target_test, predicted_valid), 'AUC-ROC:', auc_roc)"
   ]
  },
  {
   "cell_type": "markdown",
   "metadata": {},
   "source": [
    "Значение F1 хуже на тестовой выборке, чем на валидационной.\n",
    "\n",
    "Проверим вторую модель"
   ]
  },
  {
   "cell_type": "code",
   "execution_count": 36,
   "metadata": {},
   "outputs": [
    {
     "name": "stdout",
     "output_type": "stream",
     "text": [
      "F1: 0.6456692913385826 AUC-ROC: 0.7804393817806634\n"
     ]
    }
   ],
   "source": [
    "model = RandomForestClassifier(n_estimators=100, random_state=12345, max_depth=9, class_weight='balanced')\n",
    "model.fit(features_train, target_train)\n",
    "predicted_valid = model.predict(features_test)\n",
    "auc_roc = roc_auc_score(target_test, predicted_valid)\n",
    "print('F1:',f1_score(target_test, predicted_valid), 'AUC-ROC:', auc_roc)"
   ]
  },
  {
   "cell_type": "markdown",
   "metadata": {},
   "source": [
    "Значение F1 метрики в данном случае даже лучше на тестовой выборке, чем на валидационной.\n",
    "\n",
    "F1 метрика и значение AUC-ROC в данном случае имеет наилучшее значение."
   ]
  },
  {
   "cell_type": "markdown",
   "metadata": {},
   "source": [
    "## Чек-лист готовности проекта"
   ]
  },
  {
   "cell_type": "markdown",
   "metadata": {},
   "source": [
    "Поставьте 'x' в выполненных пунктах. Далее нажмите Shift+Enter."
   ]
  },
  {
   "cell_type": "markdown",
   "metadata": {},
   "source": [
    "- [x]  Jupyter Notebook открыт\n",
    "- [x]  Весь код выполняется без ошибок\n",
    "- [x]  Ячейки с кодом расположены в порядке исполнения\n",
    "- [x]  Выполнен шаг 1: данные подготовлены\n",
    "- [x]  Выполнен шаг 2: задача исследована\n",
    "    - [x]  Исследован баланс классов\n",
    "    - [x]  Изучены модели без учёта дисбаланса\n",
    "    - [x]  Написаны выводы по результатам исследования\n",
    "- [x]  Выполнен шаг 3: учтён дисбаланс\n",
    "    - [x]  Применено несколько способов борьбы с дисбалансом\n",
    "    - [x]  Написаны выводы по результатам исследования\n",
    "- [x]  Выполнен шаг 4: проведено тестирование\n",
    "- [x]  Удалось достичь *F1*-меры не менее 0.59\n",
    "- [x]  Исследована метрика *AUC-ROC*"
   ]
  },
  {
   "cell_type": "code",
   "execution_count": null,
   "metadata": {},
   "outputs": [],
   "source": []
  }
 ],
 "metadata": {
  "ExecuteTimeLog": [
   {
    "duration": 71,
    "start_time": "2022-04-18T05:20:16.456Z"
   },
   {
    "duration": 560,
    "start_time": "2022-04-18T05:20:19.821Z"
   },
   {
    "duration": 43,
    "start_time": "2022-04-18T05:20:21.595Z"
   },
   {
    "duration": 68,
    "start_time": "2022-04-18T05:24:54.799Z"
   },
   {
    "duration": 64,
    "start_time": "2022-04-18T05:29:28.120Z"
   },
   {
    "duration": 42,
    "start_time": "2022-04-18T05:31:47.533Z"
   },
   {
    "duration": 23,
    "start_time": "2022-04-18T05:31:57.113Z"
   },
   {
    "duration": 20,
    "start_time": "2022-04-18T05:33:36.637Z"
   },
   {
    "duration": 12,
    "start_time": "2022-04-18T05:34:25.753Z"
   },
   {
    "duration": 11,
    "start_time": "2022-04-18T05:34:43.458Z"
   },
   {
    "duration": 11,
    "start_time": "2022-04-18T05:34:45.438Z"
   },
   {
    "duration": 23,
    "start_time": "2022-04-18T05:35:13.505Z"
   },
   {
    "duration": 21,
    "start_time": "2022-04-18T05:35:22.077Z"
   },
   {
    "duration": 13,
    "start_time": "2022-04-18T05:35:33.969Z"
   },
   {
    "duration": 19,
    "start_time": "2022-04-18T05:35:42.645Z"
   },
   {
    "duration": 20,
    "start_time": "2022-04-18T05:36:25.234Z"
   },
   {
    "duration": 18,
    "start_time": "2022-04-18T05:36:33.777Z"
   },
   {
    "duration": 17,
    "start_time": "2022-04-18T05:37:02.773Z"
   },
   {
    "duration": 18,
    "start_time": "2022-04-18T05:37:09.525Z"
   },
   {
    "duration": 17,
    "start_time": "2022-04-18T05:38:08.166Z"
   },
   {
    "duration": 6,
    "start_time": "2022-04-18T05:38:26.274Z"
   },
   {
    "duration": 6,
    "start_time": "2022-04-18T05:39:14.330Z"
   },
   {
    "duration": 1628,
    "start_time": "2022-04-18T05:39:26.306Z"
   },
   {
    "duration": 7,
    "start_time": "2022-04-18T05:39:33.965Z"
   },
   {
    "duration": 12,
    "start_time": "2022-04-18T05:41:16.801Z"
   },
   {
    "duration": 14,
    "start_time": "2022-04-18T05:45:15.840Z"
   },
   {
    "duration": 22,
    "start_time": "2022-04-18T05:45:31.327Z"
   },
   {
    "duration": 22,
    "start_time": "2022-04-18T05:45:37.568Z"
   },
   {
    "duration": 62,
    "start_time": "2022-04-18T05:45:44.093Z"
   },
   {
    "duration": 27,
    "start_time": "2022-04-18T05:46:00.281Z"
   },
   {
    "duration": 20,
    "start_time": "2022-04-18T05:46:56.138Z"
   },
   {
    "duration": 15,
    "start_time": "2022-04-18T05:47:45.493Z"
   },
   {
    "duration": 17,
    "start_time": "2022-04-18T05:48:36.528Z"
   },
   {
    "duration": 18,
    "start_time": "2022-04-18T05:48:41.331Z"
   },
   {
    "duration": 3,
    "start_time": "2022-04-18T05:49:09.494Z"
   },
   {
    "duration": 66,
    "start_time": "2022-04-18T05:49:09.500Z"
   },
   {
    "duration": 19,
    "start_time": "2022-04-18T05:49:09.569Z"
   },
   {
    "duration": 45,
    "start_time": "2022-04-18T05:49:09.591Z"
   },
   {
    "duration": 17,
    "start_time": "2022-04-18T05:49:09.640Z"
   },
   {
    "duration": 16,
    "start_time": "2022-04-18T05:49:09.660Z"
   },
   {
    "duration": 6,
    "start_time": "2022-04-18T05:49:09.725Z"
   },
   {
    "duration": 21,
    "start_time": "2022-04-18T05:49:09.733Z"
   },
   {
    "duration": 26,
    "start_time": "2022-04-18T05:49:12.581Z"
   },
   {
    "duration": 9,
    "start_time": "2022-04-18T05:51:12.157Z"
   },
   {
    "duration": 4,
    "start_time": "2022-04-18T05:51:25.122Z"
   },
   {
    "duration": 65,
    "start_time": "2022-04-18T05:51:25.128Z"
   },
   {
    "duration": 37,
    "start_time": "2022-04-18T05:51:25.195Z"
   },
   {
    "duration": 11,
    "start_time": "2022-04-18T05:51:25.234Z"
   },
   {
    "duration": 15,
    "start_time": "2022-04-18T05:51:25.248Z"
   },
   {
    "duration": 9,
    "start_time": "2022-04-18T05:51:28.621Z"
   },
   {
    "duration": 11,
    "start_time": "2022-04-18T05:51:58.216Z"
   },
   {
    "duration": 17,
    "start_time": "2022-04-18T05:52:28.418Z"
   },
   {
    "duration": 1099,
    "start_time": "2022-04-18T05:57:18.921Z"
   },
   {
    "duration": 13,
    "start_time": "2022-04-18T05:57:24.543Z"
   },
   {
    "duration": 0,
    "start_time": "2022-04-18T05:57:24.560Z"
   },
   {
    "duration": 0,
    "start_time": "2022-04-18T05:57:24.561Z"
   },
   {
    "duration": 0,
    "start_time": "2022-04-18T05:57:24.564Z"
   },
   {
    "duration": 0,
    "start_time": "2022-04-18T05:57:24.565Z"
   },
   {
    "duration": 0,
    "start_time": "2022-04-18T05:57:24.567Z"
   },
   {
    "duration": 0,
    "start_time": "2022-04-18T05:57:24.569Z"
   },
   {
    "duration": 0,
    "start_time": "2022-04-18T05:57:24.570Z"
   },
   {
    "duration": 0,
    "start_time": "2022-04-18T05:57:24.572Z"
   },
   {
    "duration": 6,
    "start_time": "2022-04-18T05:57:43.124Z"
   },
   {
    "duration": 4,
    "start_time": "2022-04-18T05:57:47.575Z"
   },
   {
    "duration": 72,
    "start_time": "2022-04-18T05:57:47.582Z"
   },
   {
    "duration": 20,
    "start_time": "2022-04-18T05:57:47.657Z"
   },
   {
    "duration": 45,
    "start_time": "2022-04-18T05:57:47.680Z"
   },
   {
    "duration": 18,
    "start_time": "2022-04-18T05:57:47.728Z"
   },
   {
    "duration": 21,
    "start_time": "2022-04-18T05:57:47.748Z"
   },
   {
    "duration": 10,
    "start_time": "2022-04-18T05:57:47.771Z"
   },
   {
    "duration": 13,
    "start_time": "2022-04-18T05:57:47.826Z"
   },
   {
    "duration": 29,
    "start_time": "2022-04-18T05:57:47.842Z"
   },
   {
    "duration": 5,
    "start_time": "2022-04-18T05:57:47.875Z"
   },
   {
    "duration": 19,
    "start_time": "2022-04-18T06:00:48.491Z"
   },
   {
    "duration": 32,
    "start_time": "2022-04-18T06:01:07.006Z"
   },
   {
    "duration": 14,
    "start_time": "2022-04-18T06:04:02.393Z"
   },
   {
    "duration": 1624,
    "start_time": "2022-04-18T06:04:29.914Z"
   },
   {
    "duration": 117,
    "start_time": "2022-04-18T06:04:31.542Z"
   },
   {
    "duration": 21,
    "start_time": "2022-04-18T06:04:31.662Z"
   },
   {
    "duration": 45,
    "start_time": "2022-04-18T06:04:31.685Z"
   },
   {
    "duration": 25,
    "start_time": "2022-04-18T06:04:31.733Z"
   },
   {
    "duration": 21,
    "start_time": "2022-04-18T06:04:31.761Z"
   },
   {
    "duration": 52,
    "start_time": "2022-04-18T06:04:31.785Z"
   },
   {
    "duration": 28,
    "start_time": "2022-04-18T06:04:31.840Z"
   },
   {
    "duration": 28,
    "start_time": "2022-04-18T06:04:31.870Z"
   },
   {
    "duration": 66,
    "start_time": "2022-04-18T06:04:31.901Z"
   },
   {
    "duration": 19,
    "start_time": "2022-04-18T06:04:31.970Z"
   },
   {
    "duration": 42,
    "start_time": "2022-04-18T06:06:15.122Z"
   },
   {
    "duration": 4,
    "start_time": "2022-04-18T06:06:42.454Z"
   },
   {
    "duration": 97,
    "start_time": "2022-04-18T06:06:42.461Z"
   },
   {
    "duration": 21,
    "start_time": "2022-04-18T06:06:42.561Z"
   },
   {
    "duration": 12,
    "start_time": "2022-04-18T06:06:42.584Z"
   },
   {
    "duration": 45,
    "start_time": "2022-04-18T06:06:42.628Z"
   },
   {
    "duration": 22,
    "start_time": "2022-04-18T06:06:42.676Z"
   },
   {
    "duration": 10,
    "start_time": "2022-04-18T06:06:42.701Z"
   },
   {
    "duration": 25,
    "start_time": "2022-04-18T06:06:42.713Z"
   },
   {
    "duration": 45,
    "start_time": "2022-04-18T06:06:42.742Z"
   },
   {
    "duration": 59,
    "start_time": "2022-04-18T06:06:42.789Z"
   },
   {
    "duration": 38,
    "start_time": "2022-04-18T06:06:42.852Z"
   },
   {
    "duration": 1600,
    "start_time": "2022-04-18T06:07:00.960Z"
   },
   {
    "duration": 88,
    "start_time": "2022-04-18T06:07:02.563Z"
   },
   {
    "duration": 21,
    "start_time": "2022-04-18T06:07:02.653Z"
   },
   {
    "duration": 56,
    "start_time": "2022-04-18T06:07:02.677Z"
   },
   {
    "duration": 21,
    "start_time": "2022-04-18T06:07:02.737Z"
   },
   {
    "duration": 22,
    "start_time": "2022-04-18T06:07:02.761Z"
   },
   {
    "duration": 10,
    "start_time": "2022-04-18T06:07:02.830Z"
   },
   {
    "duration": 13,
    "start_time": "2022-04-18T06:07:02.843Z"
   },
   {
    "duration": 66,
    "start_time": "2022-04-18T06:07:02.858Z"
   },
   {
    "duration": 33,
    "start_time": "2022-04-18T06:07:02.934Z"
   },
   {
    "duration": 71,
    "start_time": "2022-04-18T06:07:02.969Z"
   },
   {
    "duration": 1452,
    "start_time": "2022-04-18T06:08:17.448Z"
   },
   {
    "duration": 79,
    "start_time": "2022-04-18T06:08:18.903Z"
   },
   {
    "duration": 20,
    "start_time": "2022-04-18T06:08:18.984Z"
   },
   {
    "duration": 12,
    "start_time": "2022-04-18T06:08:19.025Z"
   },
   {
    "duration": 16,
    "start_time": "2022-04-18T06:08:19.040Z"
   },
   {
    "duration": 23,
    "start_time": "2022-04-18T06:08:19.058Z"
   },
   {
    "duration": 44,
    "start_time": "2022-04-18T06:08:19.083Z"
   },
   {
    "duration": 15,
    "start_time": "2022-04-18T06:08:19.129Z"
   },
   {
    "duration": 29,
    "start_time": "2022-04-18T06:08:19.147Z"
   },
   {
    "duration": 70,
    "start_time": "2022-04-18T06:08:19.179Z"
   },
   {
    "duration": 34,
    "start_time": "2022-04-18T06:08:19.252Z"
   },
   {
    "duration": 8,
    "start_time": "2022-04-18T06:09:42.058Z"
   },
   {
    "duration": 7,
    "start_time": "2022-04-18T06:10:22.781Z"
   },
   {
    "duration": 7,
    "start_time": "2022-04-18T06:10:24.804Z"
   },
   {
    "duration": 9,
    "start_time": "2022-04-18T06:10:28.762Z"
   },
   {
    "duration": 5,
    "start_time": "2022-04-18T06:10:35.410Z"
   },
   {
    "duration": 74,
    "start_time": "2022-04-18T06:10:35.418Z"
   },
   {
    "duration": 37,
    "start_time": "2022-04-18T06:10:35.495Z"
   },
   {
    "duration": 11,
    "start_time": "2022-04-18T06:10:35.535Z"
   },
   {
    "duration": 6,
    "start_time": "2022-04-18T06:10:37.368Z"
   },
   {
    "duration": 7,
    "start_time": "2022-04-18T06:10:39.516Z"
   },
   {
    "duration": 7,
    "start_time": "2022-04-18T06:10:40.990Z"
   },
   {
    "duration": 4,
    "start_time": "2022-04-18T06:11:57.967Z"
   },
   {
    "duration": 74,
    "start_time": "2022-04-18T06:11:57.974Z"
   },
   {
    "duration": 17,
    "start_time": "2022-04-18T06:11:58.050Z"
   },
   {
    "duration": 4,
    "start_time": "2022-04-18T06:11:58.069Z"
   },
   {
    "duration": 6,
    "start_time": "2022-04-18T06:11:58.076Z"
   },
   {
    "duration": 44,
    "start_time": "2022-04-18T06:11:58.084Z"
   },
   {
    "duration": 11,
    "start_time": "2022-04-18T06:11:58.131Z"
   },
   {
    "duration": 6,
    "start_time": "2022-04-18T06:11:58.144Z"
   },
   {
    "duration": 9,
    "start_time": "2022-04-18T06:11:58.152Z"
   },
   {
    "duration": 28,
    "start_time": "2022-04-18T06:11:58.163Z"
   },
   {
    "duration": 61,
    "start_time": "2022-04-18T06:11:58.193Z"
   },
   {
    "duration": 32,
    "start_time": "2022-04-18T06:11:58.256Z"
   },
   {
    "duration": 73,
    "start_time": "2022-04-19T05:14:19.411Z"
   },
   {
    "duration": 1508,
    "start_time": "2022-04-19T05:14:25.122Z"
   },
   {
    "duration": 6,
    "start_time": "2022-04-19T05:14:33.874Z"
   },
   {
    "duration": 131,
    "start_time": "2022-04-19T05:14:33.883Z"
   },
   {
    "duration": 17,
    "start_time": "2022-04-19T05:14:34.016Z"
   },
   {
    "duration": 52,
    "start_time": "2022-04-19T05:14:34.035Z"
   },
   {
    "duration": 28,
    "start_time": "2022-04-19T05:14:34.090Z"
   },
   {
    "duration": 13,
    "start_time": "2022-04-19T05:14:34.120Z"
   },
   {
    "duration": 108,
    "start_time": "2022-04-19T05:14:39.867Z"
   },
   {
    "duration": 6,
    "start_time": "2022-04-19T05:18:18.586Z"
   },
   {
    "duration": 5,
    "start_time": "2022-04-19T05:18:23.695Z"
   },
   {
    "duration": 65,
    "start_time": "2022-04-19T05:18:23.703Z"
   },
   {
    "duration": 22,
    "start_time": "2022-04-19T05:18:23.770Z"
   },
   {
    "duration": 26,
    "start_time": "2022-04-19T05:18:23.794Z"
   },
   {
    "duration": 6,
    "start_time": "2022-04-19T05:18:26.455Z"
   },
   {
    "duration": 4,
    "start_time": "2022-04-19T05:22:35.076Z"
   },
   {
    "duration": 28,
    "start_time": "2022-04-19T05:22:38.424Z"
   },
   {
    "duration": 13,
    "start_time": "2022-04-19T05:22:41.607Z"
   },
   {
    "duration": 60,
    "start_time": "2022-04-19T05:22:44.412Z"
   },
   {
    "duration": 4,
    "start_time": "2022-04-19T05:24:04.719Z"
   },
   {
    "duration": 62,
    "start_time": "2022-04-19T05:24:09.017Z"
   },
   {
    "duration": 12,
    "start_time": "2022-04-19T05:25:32.311Z"
   },
   {
    "duration": 7,
    "start_time": "2022-04-19T05:26:54.172Z"
   },
   {
    "duration": 98,
    "start_time": "2022-04-19T05:30:03.606Z"
   },
   {
    "duration": 8,
    "start_time": "2022-04-19T05:30:34.189Z"
   },
   {
    "duration": 7,
    "start_time": "2022-04-19T05:32:59.104Z"
   },
   {
    "duration": 7,
    "start_time": "2022-04-19T05:33:00.647Z"
   },
   {
    "duration": 7,
    "start_time": "2022-04-19T05:33:29.179Z"
   },
   {
    "duration": 61,
    "start_time": "2022-04-19T05:38:20.922Z"
   },
   {
    "duration": 4,
    "start_time": "2022-04-19T05:40:35.218Z"
   },
   {
    "duration": 5,
    "start_time": "2022-04-19T05:40:52.973Z"
   },
   {
    "duration": 25,
    "start_time": "2022-04-19T05:43:10.895Z"
   },
   {
    "duration": 5,
    "start_time": "2022-04-19T05:43:28.339Z"
   },
   {
    "duration": 94,
    "start_time": "2022-04-19T05:43:34.805Z"
   },
   {
    "duration": 100,
    "start_time": "2022-04-19T05:43:42.697Z"
   },
   {
    "duration": 134,
    "start_time": "2022-04-19T05:43:47.616Z"
   },
   {
    "duration": 85,
    "start_time": "2022-04-19T05:43:51.793Z"
   },
   {
    "duration": 94,
    "start_time": "2022-04-19T05:43:56.443Z"
   },
   {
    "duration": 9,
    "start_time": "2022-04-19T05:45:02.993Z"
   },
   {
    "duration": 91,
    "start_time": "2022-04-19T05:45:12.881Z"
   },
   {
    "duration": 110,
    "start_time": "2022-04-19T05:47:19.636Z"
   },
   {
    "duration": 58,
    "start_time": "2022-04-19T05:48:00.444Z"
   },
   {
    "duration": 42,
    "start_time": "2022-04-19T05:48:16.187Z"
   },
   {
    "duration": 5,
    "start_time": "2022-04-19T05:49:25.946Z"
   },
   {
    "duration": 5,
    "start_time": "2022-04-19T05:49:30.236Z"
   },
   {
    "duration": 1356,
    "start_time": "2022-04-19T05:49:41.229Z"
   },
   {
    "duration": 92,
    "start_time": "2022-04-19T05:50:15.708Z"
   },
   {
    "duration": 8,
    "start_time": "2022-04-19T05:50:29.920Z"
   },
   {
    "duration": 9,
    "start_time": "2022-04-19T05:50:34.965Z"
   },
   {
    "duration": 674,
    "start_time": "2022-04-19T05:50:53.313Z"
   },
   {
    "duration": 1329,
    "start_time": "2022-04-19T05:51:28.461Z"
   },
   {
    "duration": 2296,
    "start_time": "2022-04-19T05:51:53.687Z"
   },
   {
    "duration": 2123,
    "start_time": "2022-04-19T05:52:00.467Z"
   },
   {
    "duration": 1186,
    "start_time": "2022-04-19T05:52:31.904Z"
   },
   {
    "duration": 894,
    "start_time": "2022-04-19T05:52:48.091Z"
   },
   {
    "duration": 837,
    "start_time": "2022-04-19T05:52:59.451Z"
   },
   {
    "duration": 900,
    "start_time": "2022-04-19T05:53:00.988Z"
   },
   {
    "duration": 431,
    "start_time": "2022-04-19T05:53:51.452Z"
   },
   {
    "duration": 738,
    "start_time": "2022-04-19T05:53:55.145Z"
   },
   {
    "duration": 932,
    "start_time": "2022-04-19T05:53:59.155Z"
   },
   {
    "duration": 1565,
    "start_time": "2022-04-20T05:08:43.425Z"
   },
   {
    "duration": 8,
    "start_time": "2022-04-20T05:08:44.993Z"
   },
   {
    "duration": 84,
    "start_time": "2022-04-20T05:08:45.003Z"
   },
   {
    "duration": 19,
    "start_time": "2022-04-20T05:08:45.089Z"
   },
   {
    "duration": 53,
    "start_time": "2022-04-20T05:08:45.111Z"
   },
   {
    "duration": 5,
    "start_time": "2022-04-20T05:08:45.167Z"
   },
   {
    "duration": 12,
    "start_time": "2022-04-20T05:08:45.175Z"
   },
   {
    "duration": 30,
    "start_time": "2022-04-20T05:08:45.189Z"
   },
   {
    "duration": 40,
    "start_time": "2022-04-20T05:08:45.222Z"
   },
   {
    "duration": 1286,
    "start_time": "2022-04-20T05:08:45.265Z"
   },
   {
    "duration": 100,
    "start_time": "2022-04-20T05:08:46.555Z"
   },
   {
    "duration": 8,
    "start_time": "2022-04-20T05:08:46.658Z"
   },
   {
    "duration": 8,
    "start_time": "2022-04-20T05:08:46.668Z"
   },
   {
    "duration": 1179,
    "start_time": "2022-04-20T05:08:46.679Z"
   },
   {
    "duration": 1491,
    "start_time": "2022-04-20T05:08:47.862Z"
   },
   {
    "duration": 1002,
    "start_time": "2022-04-20T05:08:49.356Z"
   },
   {
    "duration": 2850,
    "start_time": "2022-04-20T05:08:52.684Z"
   },
   {
    "duration": 63,
    "start_time": "2022-04-20T05:10:45.425Z"
   },
   {
    "duration": 552,
    "start_time": "2022-04-20T05:12:48.969Z"
   },
   {
    "duration": 521,
    "start_time": "2022-04-20T05:13:20.552Z"
   },
   {
    "duration": 523,
    "start_time": "2022-04-20T05:13:34.261Z"
   },
   {
    "duration": 515,
    "start_time": "2022-04-20T05:13:36.175Z"
   },
   {
    "duration": 223,
    "start_time": "2022-04-20T05:14:01.121Z"
   },
   {
    "duration": 40,
    "start_time": "2022-04-20T05:14:10.824Z"
   },
   {
    "duration": 515,
    "start_time": "2022-04-20T05:15:33.569Z"
   },
   {
    "duration": 1936,
    "start_time": "2022-04-20T05:16:35.207Z"
   },
   {
    "duration": 153,
    "start_time": "2022-04-20T05:17:29.303Z"
   },
   {
    "duration": 3106,
    "start_time": "2022-04-20T05:18:05.154Z"
   },
   {
    "duration": 2880,
    "start_time": "2022-04-20T05:18:36.003Z"
   },
   {
    "duration": 3019,
    "start_time": "2022-04-20T05:19:12.138Z"
   },
   {
    "duration": 24,
    "start_time": "2022-04-20T05:25:31.960Z"
   },
   {
    "duration": 15,
    "start_time": "2022-04-20T05:25:36.911Z"
   },
   {
    "duration": 27969,
    "start_time": "2022-04-20T05:25:41.267Z"
   },
   {
    "duration": 27279,
    "start_time": "2022-04-20T05:26:55.338Z"
   },
   {
    "duration": 2250,
    "start_time": "2022-04-20T05:28:21.821Z"
   },
   {
    "duration": 3060,
    "start_time": "2022-04-20T05:30:41.146Z"
   },
   {
    "duration": 27722,
    "start_time": "2022-04-20T05:31:20.777Z"
   },
   {
    "duration": 2856,
    "start_time": "2022-04-20T05:32:37.562Z"
   },
   {
    "duration": 93,
    "start_time": "2022-04-20T05:35:17.981Z"
   },
   {
    "duration": 98167,
    "start_time": "2022-04-20T05:35:25.154Z"
   },
   {
    "duration": 1646,
    "start_time": "2022-04-20T05:39:05.313Z"
   },
   {
    "duration": 3065,
    "start_time": "2022-04-20T05:41:04.231Z"
   },
   {
    "duration": 71806,
    "start_time": "2022-04-20T05:42:56.148Z"
   },
   {
    "duration": 71701,
    "start_time": "2022-04-20T05:44:17.551Z"
   },
   {
    "duration": 45143,
    "start_time": "2022-04-20T05:46:37.953Z"
   },
   {
    "duration": 89846,
    "start_time": "2022-04-20T05:47:25.514Z"
   },
   {
    "duration": 65460,
    "start_time": "2022-04-20T05:50:24.463Z"
   },
   {
    "duration": 30104,
    "start_time": "2022-04-20T05:53:14.380Z"
   },
   {
    "duration": 31808,
    "start_time": "2022-04-20T05:55:35.409Z"
   },
   {
    "duration": 104,
    "start_time": "2022-04-20T05:56:52.848Z"
   },
   {
    "duration": 102,
    "start_time": "2022-04-20T05:57:23.072Z"
   },
   {
    "duration": 70468,
    "start_time": "2022-04-20T05:58:13.211Z"
   },
   {
    "duration": 22651,
    "start_time": "2022-04-20T05:59:37.940Z"
   },
   {
    "duration": 1,
    "start_time": "2022-04-20T06:00:00.593Z"
   },
   {
    "duration": 141,
    "start_time": "2022-04-20T06:00:11.428Z"
   },
   {
    "duration": 118616,
    "start_time": "2022-04-20T06:00:15.973Z"
   },
   {
    "duration": 167,
    "start_time": "2022-04-20T06:02:27.236Z"
   },
   {
    "duration": 1149,
    "start_time": "2022-04-20T15:17:00.655Z"
   },
   {
    "duration": 16,
    "start_time": "2022-04-20T15:17:01.806Z"
   },
   {
    "duration": 170,
    "start_time": "2022-04-20T15:17:01.825Z"
   },
   {
    "duration": 23,
    "start_time": "2022-04-20T15:17:01.997Z"
   },
   {
    "duration": 46,
    "start_time": "2022-04-20T15:17:02.023Z"
   },
   {
    "duration": 38,
    "start_time": "2022-04-20T15:17:02.071Z"
   },
   {
    "duration": 27,
    "start_time": "2022-04-20T15:17:02.111Z"
   },
   {
    "duration": 30,
    "start_time": "2022-04-20T15:17:02.140Z"
   },
   {
    "duration": 9,
    "start_time": "2022-04-20T15:17:02.172Z"
   },
   {
    "duration": 3556,
    "start_time": "2022-04-20T15:17:02.184Z"
   },
   {
    "duration": 98,
    "start_time": "2022-04-20T15:17:05.743Z"
   },
   {
    "duration": 7,
    "start_time": "2022-04-20T15:17:05.862Z"
   },
   {
    "duration": 43,
    "start_time": "2022-04-20T15:17:05.871Z"
   },
   {
    "duration": 3313,
    "start_time": "2022-04-20T15:17:05.923Z"
   },
   {
    "duration": 98567,
    "start_time": "2022-04-20T15:18:00.751Z"
   },
   {
    "duration": 191319,
    "start_time": "2022-04-20T15:21:41.391Z"
   },
   {
    "duration": 1813,
    "start_time": "2022-04-20T15:25:35.267Z"
   },
   {
    "duration": 2292,
    "start_time": "2022-04-20T15:26:24.106Z"
   },
   {
    "duration": 12101,
    "start_time": "2022-04-20T15:30:46.956Z"
   },
   {
    "duration": 33088,
    "start_time": "2022-04-20T15:34:32.683Z"
   },
   {
    "duration": 34235,
    "start_time": "2022-04-20T15:36:03.339Z"
   },
   {
    "duration": 18,
    "start_time": "2022-04-20T15:38:23.497Z"
   },
   {
    "duration": 4,
    "start_time": "2022-04-20T15:42:10.789Z"
   },
   {
    "duration": 14,
    "start_time": "2022-04-20T15:42:10.796Z"
   },
   {
    "duration": 51,
    "start_time": "2022-04-20T15:42:10.812Z"
   },
   {
    "duration": 13,
    "start_time": "2022-04-20T15:42:10.864Z"
   },
   {
    "duration": 17,
    "start_time": "2022-04-20T15:42:10.879Z"
   },
   {
    "duration": 4,
    "start_time": "2022-04-20T15:42:10.908Z"
   },
   {
    "duration": 10,
    "start_time": "2022-04-20T15:42:10.914Z"
   },
   {
    "duration": 23,
    "start_time": "2022-04-20T15:42:10.926Z"
   },
   {
    "duration": 8,
    "start_time": "2022-04-20T15:42:10.951Z"
   },
   {
    "duration": 6,
    "start_time": "2022-04-20T15:42:19.808Z"
   },
   {
    "duration": 8,
    "start_time": "2022-04-20T15:42:19.816Z"
   },
   {
    "duration": 44,
    "start_time": "2022-04-20T15:42:19.826Z"
   },
   {
    "duration": 12,
    "start_time": "2022-04-20T15:42:19.872Z"
   },
   {
    "duration": 43,
    "start_time": "2022-04-20T15:42:19.886Z"
   },
   {
    "duration": 4,
    "start_time": "2022-04-20T15:42:19.931Z"
   },
   {
    "duration": 5,
    "start_time": "2022-04-20T15:42:19.936Z"
   },
   {
    "duration": 18,
    "start_time": "2022-04-20T15:42:19.942Z"
   },
   {
    "duration": 9,
    "start_time": "2022-04-20T15:42:19.962Z"
   },
   {
    "duration": 646,
    "start_time": "2022-04-20T15:42:19.973Z"
   },
   {
    "duration": 86,
    "start_time": "2022-04-20T15:42:20.622Z"
   },
   {
    "duration": 12,
    "start_time": "2022-04-20T15:42:20.711Z"
   },
   {
    "duration": 94,
    "start_time": "2022-04-20T15:42:20.725Z"
   },
   {
    "duration": 30097,
    "start_time": "2022-04-20T15:42:30.361Z"
   },
   {
    "duration": 1835,
    "start_time": "2022-04-20T15:43:10.283Z"
   },
   {
    "duration": 1454,
    "start_time": "2022-04-20T15:43:15.699Z"
   },
   {
    "duration": 1774,
    "start_time": "2022-04-20T15:43:21.312Z"
   },
   {
    "duration": 44600,
    "start_time": "2022-04-20T15:43:28.728Z"
   },
   {
    "duration": 4,
    "start_time": "2022-04-20T15:45:14.831Z"
   },
   {
    "duration": 8,
    "start_time": "2022-04-20T15:45:14.837Z"
   },
   {
    "duration": 49,
    "start_time": "2022-04-20T15:45:14.847Z"
   },
   {
    "duration": 14,
    "start_time": "2022-04-20T15:45:14.898Z"
   },
   {
    "duration": 18,
    "start_time": "2022-04-20T15:45:14.919Z"
   },
   {
    "duration": 4,
    "start_time": "2022-04-20T15:45:14.939Z"
   },
   {
    "duration": 8,
    "start_time": "2022-04-20T15:45:19.017Z"
   },
   {
    "duration": 4,
    "start_time": "2022-04-20T15:45:40.009Z"
   },
   {
    "duration": 8,
    "start_time": "2022-04-20T15:45:40.016Z"
   },
   {
    "duration": 44,
    "start_time": "2022-04-20T15:45:40.025Z"
   },
   {
    "duration": 12,
    "start_time": "2022-04-20T15:45:40.071Z"
   },
   {
    "duration": 39,
    "start_time": "2022-04-20T15:45:40.085Z"
   },
   {
    "duration": 4,
    "start_time": "2022-04-20T15:45:40.126Z"
   },
   {
    "duration": 9,
    "start_time": "2022-04-20T15:45:40.131Z"
   },
   {
    "duration": 19,
    "start_time": "2022-04-20T15:45:40.141Z"
   },
   {
    "duration": 10,
    "start_time": "2022-04-20T15:45:43.070Z"
   },
   {
    "duration": 29112,
    "start_time": "2022-04-20T15:45:48.616Z"
   },
   {
    "duration": 301,
    "start_time": "2022-04-20T15:48:10.242Z"
   },
   {
    "duration": 1242,
    "start_time": "2022-04-25T05:10:07.415Z"
   },
   {
    "duration": 7,
    "start_time": "2022-04-25T05:10:08.659Z"
   },
   {
    "duration": 71,
    "start_time": "2022-04-25T05:10:08.668Z"
   },
   {
    "duration": 13,
    "start_time": "2022-04-25T05:10:08.741Z"
   },
   {
    "duration": 18,
    "start_time": "2022-04-25T05:10:08.756Z"
   },
   {
    "duration": 4,
    "start_time": "2022-04-25T05:10:08.776Z"
   },
   {
    "duration": 6,
    "start_time": "2022-04-25T05:10:12.178Z"
   },
   {
    "duration": 15,
    "start_time": "2022-04-25T05:12:59.493Z"
   },
   {
    "duration": 8,
    "start_time": "2022-04-25T05:15:02.508Z"
   },
   {
    "duration": 17,
    "start_time": "2022-04-25T05:17:39.177Z"
   },
   {
    "duration": 15,
    "start_time": "2022-04-25T05:21:44.500Z"
   },
   {
    "duration": 12,
    "start_time": "2022-04-25T05:22:49.863Z"
   },
   {
    "duration": 115,
    "start_time": "2022-04-25T05:24:35.143Z"
   },
   {
    "duration": 23,
    "start_time": "2022-04-25T05:25:14.155Z"
   },
   {
    "duration": 33,
    "start_time": "2022-04-25T05:27:23.880Z"
   },
   {
    "duration": 4,
    "start_time": "2022-04-25T05:27:48.930Z"
   },
   {
    "duration": 21,
    "start_time": "2022-04-25T05:27:48.936Z"
   },
   {
    "duration": 59,
    "start_time": "2022-04-25T05:27:48.959Z"
   },
   {
    "duration": 16,
    "start_time": "2022-04-25T05:27:49.020Z"
   },
   {
    "duration": 24,
    "start_time": "2022-04-25T05:27:49.040Z"
   },
   {
    "duration": 4,
    "start_time": "2022-04-25T05:27:49.066Z"
   },
   {
    "duration": 18,
    "start_time": "2022-04-25T05:27:52.242Z"
   },
   {
    "duration": 6,
    "start_time": "2022-04-25T05:31:11.230Z"
   },
   {
    "duration": 17,
    "start_time": "2022-04-25T05:31:11.239Z"
   },
   {
    "duration": 45,
    "start_time": "2022-04-25T05:31:11.259Z"
   },
   {
    "duration": 28,
    "start_time": "2022-04-25T05:31:11.305Z"
   },
   {
    "duration": 31,
    "start_time": "2022-04-25T05:31:11.336Z"
   },
   {
    "duration": 4,
    "start_time": "2022-04-25T05:31:11.369Z"
   },
   {
    "duration": 25,
    "start_time": "2022-04-25T05:31:11.374Z"
   },
   {
    "duration": 51,
    "start_time": "2022-04-25T05:31:11.401Z"
   },
   {
    "duration": 12,
    "start_time": "2022-04-25T05:31:11.454Z"
   },
   {
    "duration": 2480,
    "start_time": "2022-04-25T05:31:11.468Z"
   },
   {
    "duration": 85,
    "start_time": "2022-04-25T05:31:13.958Z"
   },
   {
    "duration": 17,
    "start_time": "2022-04-25T05:31:14.046Z"
   },
   {
    "duration": 7,
    "start_time": "2022-04-25T05:31:14.065Z"
   },
   {
    "duration": 2177,
    "start_time": "2022-04-25T05:31:14.074Z"
   },
   {
    "duration": 13342,
    "start_time": "2022-04-25T05:31:16.256Z"
   },
   {
    "duration": 0,
    "start_time": "2022-04-25T05:31:29.601Z"
   },
   {
    "duration": 0,
    "start_time": "2022-04-25T05:31:29.603Z"
   },
   {
    "duration": 0,
    "start_time": "2022-04-25T05:31:29.605Z"
   },
   {
    "duration": 0,
    "start_time": "2022-04-25T05:31:29.606Z"
   },
   {
    "duration": 0,
    "start_time": "2022-04-25T05:31:29.607Z"
   },
   {
    "duration": 0,
    "start_time": "2022-04-25T05:31:29.608Z"
   },
   {
    "duration": 0,
    "start_time": "2022-04-25T05:31:29.610Z"
   },
   {
    "duration": 5,
    "start_time": "2022-04-25T05:32:45.174Z"
   },
   {
    "duration": 9,
    "start_time": "2022-04-25T05:32:45.180Z"
   },
   {
    "duration": 54,
    "start_time": "2022-04-25T05:32:45.191Z"
   },
   {
    "duration": 15,
    "start_time": "2022-04-25T05:32:45.247Z"
   },
   {
    "duration": 16,
    "start_time": "2022-04-25T05:32:45.265Z"
   },
   {
    "duration": 3,
    "start_time": "2022-04-25T05:32:45.283Z"
   },
   {
    "duration": 20,
    "start_time": "2022-04-25T05:32:47.772Z"
   },
   {
    "duration": 38,
    "start_time": "2022-04-25T05:32:55.121Z"
   },
   {
    "duration": 38,
    "start_time": "2022-04-25T05:33:37.480Z"
   },
   {
    "duration": 37,
    "start_time": "2022-04-25T05:33:39.028Z"
   },
   {
    "duration": 25,
    "start_time": "2022-04-25T05:33:39.357Z"
   },
   {
    "duration": 35,
    "start_time": "2022-04-25T05:33:39.615Z"
   },
   {
    "duration": 4,
    "start_time": "2022-04-25T05:33:44.692Z"
   },
   {
    "duration": 6,
    "start_time": "2022-04-25T05:33:44.698Z"
   },
   {
    "duration": 79,
    "start_time": "2022-04-25T05:33:44.706Z"
   },
   {
    "duration": 12,
    "start_time": "2022-04-25T05:33:44.787Z"
   },
   {
    "duration": 18,
    "start_time": "2022-04-25T05:33:44.801Z"
   },
   {
    "duration": 12,
    "start_time": "2022-04-25T05:33:44.820Z"
   },
   {
    "duration": 25,
    "start_time": "2022-04-25T05:33:47.847Z"
   },
   {
    "duration": 5,
    "start_time": "2022-04-25T05:33:51.325Z"
   },
   {
    "duration": 31,
    "start_time": "2022-04-25T05:33:51.332Z"
   },
   {
    "duration": 50,
    "start_time": "2022-04-25T05:33:51.364Z"
   },
   {
    "duration": 23,
    "start_time": "2022-04-25T05:33:51.415Z"
   },
   {
    "duration": 26,
    "start_time": "2022-04-25T05:33:51.440Z"
   },
   {
    "duration": 13,
    "start_time": "2022-04-25T05:33:51.468Z"
   },
   {
    "duration": 26,
    "start_time": "2022-04-25T05:33:54.106Z"
   },
   {
    "duration": 37,
    "start_time": "2022-04-25T05:33:58.007Z"
   },
   {
    "duration": 30,
    "start_time": "2022-04-25T05:34:02.140Z"
   },
   {
    "duration": 41,
    "start_time": "2022-04-25T05:34:02.507Z"
   },
   {
    "duration": 28,
    "start_time": "2022-04-25T05:34:02.748Z"
   },
   {
    "duration": 28,
    "start_time": "2022-04-25T05:34:02.952Z"
   },
   {
    "duration": 4,
    "start_time": "2022-04-25T05:34:05.599Z"
   },
   {
    "duration": 6,
    "start_time": "2022-04-25T05:34:05.605Z"
   },
   {
    "duration": 73,
    "start_time": "2022-04-25T05:34:05.612Z"
   },
   {
    "duration": 11,
    "start_time": "2022-04-25T05:34:05.687Z"
   },
   {
    "duration": 17,
    "start_time": "2022-04-25T05:34:05.700Z"
   },
   {
    "duration": 12,
    "start_time": "2022-04-25T05:34:05.719Z"
   },
   {
    "duration": 23,
    "start_time": "2022-04-25T05:34:10.784Z"
   },
   {
    "duration": 7,
    "start_time": "2022-04-25T05:34:24.825Z"
   },
   {
    "duration": 32,
    "start_time": "2022-04-25T05:34:24.834Z"
   },
   {
    "duration": 51,
    "start_time": "2022-04-25T05:34:24.868Z"
   },
   {
    "duration": 20,
    "start_time": "2022-04-25T05:34:24.920Z"
   },
   {
    "duration": 37,
    "start_time": "2022-04-25T05:34:24.942Z"
   },
   {
    "duration": 4,
    "start_time": "2022-04-25T05:34:24.981Z"
   },
   {
    "duration": 22,
    "start_time": "2022-04-25T05:34:29.460Z"
   },
   {
    "duration": 5,
    "start_time": "2022-04-25T05:35:04.477Z"
   },
   {
    "duration": 8,
    "start_time": "2022-04-25T05:35:04.483Z"
   },
   {
    "duration": 54,
    "start_time": "2022-04-25T05:35:04.492Z"
   },
   {
    "duration": 16,
    "start_time": "2022-04-25T05:35:04.549Z"
   },
   {
    "duration": 17,
    "start_time": "2022-04-25T05:35:04.567Z"
   },
   {
    "duration": 3,
    "start_time": "2022-04-25T05:35:04.586Z"
   },
   {
    "duration": 27,
    "start_time": "2022-04-25T05:35:06.430Z"
   },
   {
    "duration": 22,
    "start_time": "2022-04-25T05:35:09.064Z"
   },
   {
    "duration": 5,
    "start_time": "2022-04-25T05:35:15.026Z"
   },
   {
    "duration": 31,
    "start_time": "2022-04-25T05:35:15.034Z"
   },
   {
    "duration": 68,
    "start_time": "2022-04-25T05:35:15.067Z"
   },
   {
    "duration": 23,
    "start_time": "2022-04-25T05:35:15.137Z"
   },
   {
    "duration": 30,
    "start_time": "2022-04-25T05:35:15.163Z"
   },
   {
    "duration": 8,
    "start_time": "2022-04-25T05:35:15.223Z"
   },
   {
    "duration": 37,
    "start_time": "2022-04-25T05:35:15.235Z"
   },
   {
    "duration": 19,
    "start_time": "2022-04-25T05:35:15.273Z"
   },
   {
    "duration": 42,
    "start_time": "2022-04-25T05:35:15.294Z"
   },
   {
    "duration": 606,
    "start_time": "2022-04-25T05:35:15.338Z"
   },
   {
    "duration": 82,
    "start_time": "2022-04-25T05:35:15.947Z"
   },
   {
    "duration": 16,
    "start_time": "2022-04-25T05:35:16.034Z"
   },
   {
    "duration": 78,
    "start_time": "2022-04-25T05:35:16.053Z"
   },
   {
    "duration": 705,
    "start_time": "2022-04-25T05:35:16.134Z"
   },
   {
    "duration": 0,
    "start_time": "2022-04-25T05:35:16.841Z"
   },
   {
    "duration": 0,
    "start_time": "2022-04-25T05:35:16.846Z"
   },
   {
    "duration": 0,
    "start_time": "2022-04-25T05:35:16.847Z"
   },
   {
    "duration": 0,
    "start_time": "2022-04-25T05:35:16.848Z"
   },
   {
    "duration": 0,
    "start_time": "2022-04-25T05:35:16.849Z"
   },
   {
    "duration": 0,
    "start_time": "2022-04-25T05:35:16.851Z"
   },
   {
    "duration": 0,
    "start_time": "2022-04-25T05:35:16.852Z"
   },
   {
    "duration": 0,
    "start_time": "2022-04-25T05:35:16.853Z"
   },
   {
    "duration": 5,
    "start_time": "2022-04-25T05:36:21.026Z"
   },
   {
    "duration": 22,
    "start_time": "2022-04-25T05:36:21.033Z"
   },
   {
    "duration": 44,
    "start_time": "2022-04-25T05:36:21.057Z"
   },
   {
    "duration": 22,
    "start_time": "2022-04-25T05:36:21.103Z"
   },
   {
    "duration": 31,
    "start_time": "2022-04-25T05:36:21.129Z"
   },
   {
    "duration": 5,
    "start_time": "2022-04-25T05:36:21.162Z"
   },
   {
    "duration": 42,
    "start_time": "2022-04-25T05:36:21.169Z"
   },
   {
    "duration": 31,
    "start_time": "2022-04-25T05:36:21.225Z"
   },
   {
    "duration": 13,
    "start_time": "2022-04-25T05:36:21.259Z"
   },
   {
    "duration": 246,
    "start_time": "2022-04-25T05:36:24.494Z"
   },
   {
    "duration": 7,
    "start_time": "2022-04-25T05:36:29.886Z"
   },
   {
    "duration": 5,
    "start_time": "2022-04-25T05:36:41.273Z"
   },
   {
    "duration": 5,
    "start_time": "2022-04-25T05:36:44.296Z"
   },
   {
    "duration": 420,
    "start_time": "2022-04-25T05:36:48.920Z"
   },
   {
    "duration": 25786,
    "start_time": "2022-04-25T05:36:57.443Z"
   },
   {
    "duration": 48959,
    "start_time": "2022-04-25T05:37:32.995Z"
   },
   {
    "duration": 1732,
    "start_time": "2022-04-25T05:38:31.783Z"
   },
   {
    "duration": 1401,
    "start_time": "2022-04-25T05:39:01.793Z"
   },
   {
    "duration": 2699,
    "start_time": "2022-04-25T05:39:08.345Z"
   },
   {
    "duration": 36481,
    "start_time": "2022-04-25T05:39:58.381Z"
   },
   {
    "duration": 97,
    "start_time": "2022-04-25T05:41:06.068Z"
   },
   {
    "duration": 63,
    "start_time": "2022-04-25T05:41:26.216Z"
   },
   {
    "duration": 6741,
    "start_time": "2022-04-25T05:43:13.502Z"
   },
   {
    "duration": 21228,
    "start_time": "2022-04-25T05:43:23.786Z"
   },
   {
    "duration": 0,
    "start_time": "2022-04-25T05:43:45.016Z"
   },
   {
    "duration": 173777,
    "start_time": "2022-04-25T05:43:48.655Z"
   },
   {
    "duration": 166082,
    "start_time": "2022-04-25T05:47:12.378Z"
   },
   {
    "duration": 311,
    "start_time": "2022-04-25T05:50:08.440Z"
   },
   {
    "duration": 308,
    "start_time": "2022-04-25T05:50:45.653Z"
   },
   {
    "duration": 1601,
    "start_time": "2022-04-25T05:52:02.747Z"
   },
   {
    "duration": 72,
    "start_time": "2022-04-25T05:52:26.720Z"
   },
   {
    "duration": 32753,
    "start_time": "2022-04-25T05:52:37.947Z"
   },
   {
    "duration": 0,
    "start_time": "2022-04-25T05:53:10.702Z"
   },
   {
    "duration": 413,
    "start_time": "2022-04-25T05:53:18.273Z"
   },
   {
    "duration": 1603,
    "start_time": "2022-04-25T05:53:21.148Z"
   },
   {
    "duration": 32308,
    "start_time": "2022-04-25T05:53:40.783Z"
   },
   {
    "duration": 1536,
    "start_time": "2022-04-25T05:54:48.875Z"
   },
   {
    "duration": 326,
    "start_time": "2022-04-25T05:55:05.384Z"
   },
   {
    "duration": 330,
    "start_time": "2022-04-25T05:55:20.594Z"
   },
   {
    "duration": 330,
    "start_time": "2022-04-25T05:55:52.857Z"
   },
   {
    "duration": 321,
    "start_time": "2022-04-25T05:56:02.088Z"
   },
   {
    "duration": 31946,
    "start_time": "2022-04-25T05:57:20.066Z"
   },
   {
    "duration": 166011,
    "start_time": "2022-04-25T05:57:56.797Z"
   },
   {
    "duration": 15384,
    "start_time": "2022-04-25T06:01:04.652Z"
   },
   {
    "duration": 2151,
    "start_time": "2022-04-25T06:02:31.493Z"
   },
   {
    "duration": 559,
    "start_time": "2022-04-25T06:03:47.673Z"
   },
   {
    "duration": 13752,
    "start_time": "2022-04-25T06:05:40.163Z"
   },
   {
    "duration": 1545,
    "start_time": "2022-04-25T06:08:55.230Z"
   },
   {
    "duration": 577,
    "start_time": "2022-04-25T06:10:27.752Z"
   },
   {
    "duration": 7,
    "start_time": "2022-04-25T06:13:35.129Z"
   },
   {
    "duration": 503,
    "start_time": "2022-04-25T06:15:15.655Z"
   },
   {
    "duration": 655,
    "start_time": "2022-04-25T06:15:44.457Z"
   },
   {
    "duration": 1563,
    "start_time": "2022-04-25T06:16:05.549Z"
   },
   {
    "duration": 1547,
    "start_time": "2022-04-25T06:18:52.180Z"
   },
   {
    "duration": 500,
    "start_time": "2022-04-25T06:18:58.881Z"
   },
   {
    "duration": 1573,
    "start_time": "2022-04-26T03:44:21.560Z"
   },
   {
    "duration": 17,
    "start_time": "2022-04-26T03:44:23.136Z"
   },
   {
    "duration": 75,
    "start_time": "2022-04-26T03:44:27.567Z"
   },
   {
    "duration": 6,
    "start_time": "2022-04-26T03:45:05.540Z"
   },
   {
    "duration": 8,
    "start_time": "2022-04-26T03:45:06.965Z"
   },
   {
    "duration": 61,
    "start_time": "2022-04-26T03:45:08.570Z"
   },
   {
    "duration": 19,
    "start_time": "2022-04-26T03:45:20.945Z"
   },
   {
    "duration": 43,
    "start_time": "2022-04-26T03:46:34.642Z"
   },
   {
    "duration": 7,
    "start_time": "2022-04-26T03:47:50.668Z"
   },
   {
    "duration": 19,
    "start_time": "2022-04-26T03:48:37.015Z"
   },
   {
    "duration": 25,
    "start_time": "2022-04-26T03:48:43.717Z"
   },
   {
    "duration": 15,
    "start_time": "2022-04-26T03:48:50.753Z"
   },
   {
    "duration": 17,
    "start_time": "2022-04-26T03:48:56.764Z"
   },
   {
    "duration": 8,
    "start_time": "2022-04-26T03:50:16.864Z"
   },
   {
    "duration": 36,
    "start_time": "2022-04-26T03:50:21.739Z"
   },
   {
    "duration": 36,
    "start_time": "2022-04-26T03:53:11.435Z"
   },
   {
    "duration": 14,
    "start_time": "2022-04-26T03:55:11.079Z"
   },
   {
    "duration": 735,
    "start_time": "2022-04-26T03:55:30.324Z"
   },
   {
    "duration": 9,
    "start_time": "2022-04-26T03:55:38.832Z"
   },
   {
    "duration": 8,
    "start_time": "2022-04-26T03:55:55.476Z"
   },
   {
    "duration": 7,
    "start_time": "2022-04-26T03:55:57.129Z"
   },
   {
    "duration": 387,
    "start_time": "2022-04-26T03:56:57.866Z"
   },
   {
    "duration": 36703,
    "start_time": "2022-04-26T03:57:10.250Z"
   },
   {
    "duration": 62085,
    "start_time": "2022-04-26T03:58:55.274Z"
   },
   {
    "duration": 8,
    "start_time": "2022-04-26T04:04:21.106Z"
   },
   {
    "duration": 7,
    "start_time": "2022-04-26T04:04:44.028Z"
   },
   {
    "duration": 7,
    "start_time": "2022-04-26T04:05:26.950Z"
   },
   {
    "duration": 9,
    "start_time": "2022-04-26T04:05:40.316Z"
   },
   {
    "duration": 2482,
    "start_time": "2022-04-26T04:10:33.958Z"
   },
   {
    "duration": 2384,
    "start_time": "2022-04-26T04:11:18.462Z"
   },
   {
    "duration": 2826,
    "start_time": "2022-04-26T04:11:59.998Z"
   },
   {
    "duration": 44127,
    "start_time": "2022-04-26T04:12:28.226Z"
   },
   {
    "duration": 235038,
    "start_time": "2022-04-26T04:13:36.125Z"
   },
   {
    "duration": 17320,
    "start_time": "2022-04-26T04:17:31.165Z"
   },
   {
    "duration": 2550,
    "start_time": "2022-04-26T04:18:12.690Z"
   },
   {
    "duration": 758,
    "start_time": "2022-04-26T04:20:05.620Z"
   },
   {
    "duration": 17,
    "start_time": "2022-04-26T04:27:18.906Z"
   },
   {
    "duration": 1966,
    "start_time": "2022-04-26T05:13:23.739Z"
   },
   {
    "duration": 14,
    "start_time": "2022-04-26T05:13:25.709Z"
   },
   {
    "duration": 118,
    "start_time": "2022-04-26T05:13:25.726Z"
   },
   {
    "duration": 19,
    "start_time": "2022-04-26T05:13:25.852Z"
   },
   {
    "duration": 35,
    "start_time": "2022-04-26T05:13:25.875Z"
   },
   {
    "duration": 39,
    "start_time": "2022-04-26T05:13:25.913Z"
   },
   {
    "duration": 47,
    "start_time": "2022-04-26T05:13:25.955Z"
   },
   {
    "duration": 66,
    "start_time": "2022-04-26T05:13:26.949Z"
   },
   {
    "duration": 319,
    "start_time": "2022-04-26T05:13:32.036Z"
   },
   {
    "duration": 8,
    "start_time": "2022-04-26T05:13:34.887Z"
   },
   {
    "duration": 9,
    "start_time": "2022-04-26T05:13:38.622Z"
   },
   {
    "duration": 8,
    "start_time": "2022-04-26T05:13:41.045Z"
   },
   {
    "duration": 167,
    "start_time": "2022-04-26T05:13:46.495Z"
   },
   {
    "duration": 27009,
    "start_time": "2022-04-26T05:13:50.056Z"
   },
   {
    "duration": 56309,
    "start_time": "2022-04-26T05:14:20.449Z"
   },
   {
    "duration": 1065,
    "start_time": "2022-04-26T05:17:57.866Z"
   },
   {
    "duration": 29625,
    "start_time": "2022-04-26T05:18:23.333Z"
   },
   {
    "duration": 321,
    "start_time": "2022-04-26T05:20:27.037Z"
   },
   {
    "duration": 52780,
    "start_time": "2022-04-26T05:20:47.376Z"
   },
   {
    "duration": 2358,
    "start_time": "2022-04-26T05:23:17.899Z"
   },
   {
    "duration": 2240,
    "start_time": "2022-04-26T05:24:01.131Z"
   },
   {
    "duration": 2676,
    "start_time": "2022-04-26T05:24:48.448Z"
   },
   {
    "duration": 3306,
    "start_time": "2022-04-26T05:25:49.455Z"
   },
   {
    "duration": 2241,
    "start_time": "2022-04-26T05:26:14.214Z"
   },
   {
    "duration": 2629,
    "start_time": "2022-04-26T05:26:44.747Z"
   },
   {
    "duration": 46513,
    "start_time": "2022-04-26T05:27:57.499Z"
   },
   {
    "duration": 244651,
    "start_time": "2022-04-26T05:29:09.611Z"
   },
   {
    "duration": 22634,
    "start_time": "2022-04-26T05:33:31.163Z"
   }
  ],
  "kernelspec": {
   "display_name": "Python 3 (ipykernel)",
   "language": "python",
   "name": "python3"
  },
  "language_info": {
   "codemirror_mode": {
    "name": "ipython",
    "version": 3
   },
   "file_extension": ".py",
   "mimetype": "text/x-python",
   "name": "python",
   "nbconvert_exporter": "python",
   "pygments_lexer": "ipython3",
   "version": "3.9.7"
  },
  "toc": {
   "base_numbering": 1,
   "nav_menu": {},
   "number_sections": true,
   "sideBar": true,
   "skip_h1_title": true,
   "title_cell": "Содержание",
   "title_sidebar": "Contents",
   "toc_cell": true,
   "toc_position": {
    "height": "calc(100% - 180px)",
    "left": "10px",
    "top": "150px",
    "width": "366.391px"
   },
   "toc_section_display": true,
   "toc_window_display": true
  }
 },
 "nbformat": 4,
 "nbformat_minor": 2
}
